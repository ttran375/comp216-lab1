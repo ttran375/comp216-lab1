{
 "cells": [
  {
   "cell_type": "markdown",
   "metadata": {},
   "source": [
    "# Lab Exercises - Lectures 1 - 4"
   ]
  },
  {
   "cell_type": "markdown",
   "metadata": {},
   "source": [
    "## Lecture 1"
   ]
  },
  {
   "cell_type": "markdown",
   "metadata": {},
   "source": [
    "### Question 1\n",
    "\n",
    "Create a one-line expression that achieve the same output as\n",
    "the below with the square bracket notation.\n",
    "\n",
    "```python\n",
    "NBA = dict(\n",
    "    OklahomaCity=\"Thunder\",\n",
    "    Dallas=\"Mavericks\",\n",
    "    Boston=\"Celtics\",\n",
    "    NewYork=\"Knicks\",\n",
    "    Denver=\"Nuggets\",\n",
    ")\n",
    "\n",
    "retrieve = NBA.get(\"Toronto\", False)\n",
    "print(retrieve)\n",
    "```"
   ]
  },
  {
   "cell_type": "code",
   "execution_count": 14,
   "metadata": {},
   "outputs": [
    {
     "name": "stdout",
     "output_type": "stream",
     "text": [
      "False\n"
     ]
    }
   ],
   "source": [
    "NBA = dict(\n",
    "    OklahomaCity=\"Thunder\",\n",
    "    Dallas=\"Mavericks\",\n",
    "    Boston=\"Celtics\",\n",
    "    NewYork=\"Knicks\",\n",
    "    Denver=\"Nuggets\",\n",
    ")\n",
    "\n",
    "print(NBA['Toronto'] if 'Toronto' in NBA else False)"
   ]
  },
  {
   "cell_type": "markdown",
   "metadata": {},
   "source": [
    "### Question 2\n",
    "\n",
    "Given two numbers, a and b, write a function called\n",
    "compare_numbers that returns a string indicating the following:\n",
    "\n",
    "-   If a is greater than b, return \"a is greater\"\n",
    "\n",
    "-   If b is greater than a, return \"b is greater\"\n",
    "\n",
    "-   If both numbers are equal, return \"a and b are equal\"\n",
    "\n",
    "Use the ternary operator to implement the function.\n",
    "\n",
    "```python\n",
    "def compare_numbers(a, b):\n",
    "    pass\n",
    "```"
   ]
  },
  {
   "cell_type": "code",
   "execution_count": 15,
   "metadata": {},
   "outputs": [
    {
     "name": "stdout",
     "output_type": "stream",
     "text": [
      "b is greater\n",
      "a is greater\n",
      "a and b are equal\n"
     ]
    }
   ],
   "source": [
    "def compare_numbers(a, b):\n",
    "    return \"a is greater\" if a > b else \"b is greater\" if b > a else \"a and b are equal\"\n",
    "\n",
    "# Example usage:\n",
    "print(compare_numbers(3, 5))  # Output: b is greater\n",
    "print(compare_numbers(10, 2))  # Output: a is greater\n",
    "print(compare_numbers(4, 4))  # Output: a and b are equal"
   ]
  },
  {
   "cell_type": "markdown",
   "metadata": {},
   "source": [
    "### Question 3\n",
    "\n",
    "Examine following JS code snippet and re-create the logic\n",
    "using Python. Implement the logic as a function that accepts secret_word\n",
    "as a positional parameter and max_attempt as keyword parameter.\n",
    "\n",
    "```js\n",
    "let secret_word = \"javascript\";\n",
    "let max_attempt = 5;\n",
    "do {\n",
    "    userInput = prompt(\"Enter the secret word: \");\n",
    "    max_attempt -= 1;\n",
    "    console.log(max_attempt)\n",
    "} while (secret_word != userInput && max_attempt > 0);\n",
    "```"
   ]
  },
  {
   "cell_type": "code",
   "execution_count": 16,
   "metadata": {},
   "outputs": [
    {
     "name": "stdout",
     "output_type": "stream",
     "text": [
      "4\n",
      "3\n",
      "2\n",
      "1\n",
      "0\n"
     ]
    }
   ],
   "source": [
    "def guess_secret_word(secret_word, max_attempt=5):\n",
    "    while max_attempt > 0:\n",
    "        user_input = input(\"Enter the secret word: \")\n",
    "        max_attempt -= 1\n",
    "        print(max_attempt)\n",
    "        if secret_word == user_input:\n",
    "            break\n",
    "\n",
    "# Example usage:\n",
    "guess_secret_word(\"python\", max_attempt=5)"
   ]
  },
  {
   "cell_type": "markdown",
   "metadata": {},
   "source": [
    "### Question 4\n",
    "\n",
    "Based on the following function definition, identify which\n",
    "of the following parameters are positional-only, keyword-only and/or may\n",
    "be positionally or by keyword.\n",
    "\n",
    "```python\n",
    "def processor(value_1, value_2, /, value_3, value_4=False, *, value_5, value_6):\n",
    "    text = (value_1 + value_2).upper()\n",
    "    if value_3:\n",
    "        text += \"!\"\n",
    "    if value_4:\n",
    "        text = list(text)\n",
    "        text.extend((value_5, value_6))\n",
    "    return text\n",
    "```"
   ]
  }
 ],
 "metadata": {
  "kernelspec": {
   "display_name": "Python 3",
   "language": "python",
   "name": "python3"
  },
  "language_info": {
   "codemirror_mode": {
    "name": "ipython",
    "version": 3
   },
   "file_extension": ".py",
   "mimetype": "text/x-python",
   "name": "python",
   "nbconvert_exporter": "python",
   "pygments_lexer": "ipython3",
   "version": "3.10.13"
  }
 },
 "nbformat": 4,
 "nbformat_minor": 2
}
